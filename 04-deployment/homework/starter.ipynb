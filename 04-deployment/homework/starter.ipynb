{
 "cells": [
  {
   "cell_type": "code",
   "execution_count": 1,
   "id": "2c51efaa",
   "metadata": {},
   "outputs": [
    {
     "name": "stdout",
     "output_type": "stream",
     "text": [
      "scikit-learn==1.2.2\n"
     ]
    }
   ],
   "source": [
    "!pip freeze | grep scikit-learn"
   ]
  },
  {
   "cell_type": "code",
   "execution_count": 25,
   "id": "0ef880a0",
   "metadata": {},
   "outputs": [],
   "source": [
    "import pickle\n",
    "import pandas as pd\n",
    "import math\n",
    "import os\n",
    "\n"
   ]
  },
  {
   "cell_type": "code",
   "execution_count": 3,
   "id": "7836ccfd",
   "metadata": {},
   "outputs": [],
   "source": [
    "with open('model.bin', 'rb') as f_in:\n",
    "    dv, model = pickle.load(f_in)"
   ]
  },
  {
   "cell_type": "code",
   "execution_count": 4,
   "id": "41c08294",
   "metadata": {},
   "outputs": [],
   "source": [
    "categorical = ['PULocationID', 'DOLocationID']\n",
    "\n",
    "def read_data(filename):\n",
    "    df = pd.read_parquet(filename)\n",
    "    \n",
    "    df['duration'] = df.tpep_dropoff_datetime - df.tpep_pickup_datetime\n",
    "    df['duration'] = df.duration.dt.total_seconds() / 60\n",
    "\n",
    "    df = df[(df.duration >= 1) & (df.duration <= 60)].copy()\n",
    "\n",
    "    df[categorical] = df[categorical].fillna(-1).astype('int').astype('str')\n",
    "    \n",
    "    return df"
   ]
  },
  {
   "cell_type": "code",
   "execution_count": 5,
   "id": "4854399a",
   "metadata": {},
   "outputs": [],
   "source": [
    "df = read_data('https://d37ci6vzurychx.cloudfront.net/trip-data/yellow_tripdata_2022-02.parquet')"
   ]
  },
  {
   "cell_type": "code",
   "execution_count": 6,
   "id": "669fda0a",
   "metadata": {},
   "outputs": [],
   "source": [
    "dicts = df[categorical].to_dict(orient='records')\n",
    "X_val = dv.transform(dicts)\n",
    "y_pred = model.predict(X_val)"
   ]
  },
  {
   "cell_type": "code",
   "execution_count": 9,
   "id": "d5774aac",
   "metadata": {},
   "outputs": [
    {
     "name": "stdout",
     "output_type": "stream",
     "text": [
      "[18.52778307 23.06578208 33.68635854 ... 11.89045938 15.10268128\n",
      "  9.46059157]\n"
     ]
    }
   ],
   "source": [
    "print(y_pred)"
   ]
  },
  {
   "cell_type": "code",
   "execution_count": 11,
   "id": "18204b58",
   "metadata": {},
   "outputs": [],
   "source": [
    "def calc_std_dev(y_pred):\n",
    "    n = len(y_pred)\n",
    "    mean = sum(y_pred) / n\n",
    "    squared_diff_sum = sum((x - mean) ** 2 for x in y_pred)\n",
    "    variance = squared_diff_sum / n\n",
    "    std_dev = math.sqrt(variance)\n",
    "    return std_dev"
   ]
  },
  {
   "cell_type": "code",
   "execution_count": 14,
   "id": "ea597f86",
   "metadata": {},
   "outputs": [],
   "source": [
    "std_dev = calc_std_dev(y_pred)"
   ]
  },
  {
   "cell_type": "code",
   "execution_count": 15,
   "id": "3b46b1b2",
   "metadata": {},
   "outputs": [
    {
     "name": "stdout",
     "output_type": "stream",
     "text": [
      "Standard Deviation: 5.281403576552993\n"
     ]
    }
   ],
   "source": [
    "print(\"Standard Deviation:\", std_dev)\n"
   ]
  },
  {
   "cell_type": "code",
   "execution_count": 19,
   "id": "ed870390",
   "metadata": {},
   "outputs": [],
   "source": [
    "year = 2022\n",
    "month = 2"
   ]
  },
  {
   "cell_type": "code",
   "execution_count": 21,
   "id": "9d993efc",
   "metadata": {},
   "outputs": [],
   "source": [
    "# Create an artificial ride_id column\n",
    "df['ride_id'] = f'{year:04d}/{month:02d}_' + df.index.astype('str')\n",
    "\n",
    "# Prepare the dataframe with results\n",
    "df_result = pd.DataFrame({'ride_id': df['ride_id'], 'predicted_duration': y_pred})\n",
    "\n",
    "# Save the dataframe as a Parquet file\n",
    "output_file = 'results.parquet'\n",
    "df_result.to_parquet(output_file, engine='pyarrow', compression=None, index=False)"
   ]
  },
  {
   "cell_type": "code",
   "execution_count": 26,
   "id": "4b3e7377",
   "metadata": {},
   "outputs": [
    {
     "name": "stdout",
     "output_type": "stream",
     "text": [
      "Size of the output file: 57.2156286239624 MB\n"
     ]
    }
   ],
   "source": [
    "import os\n",
    "\n",
    "output_file = 'results.parquet'\n",
    "\n",
    "file_size_bytes = os.path.getsize(output_file)\n",
    "file_size_mb = file_size_bytes / (1024 * 1024)\n",
    "\n",
    "print(\"Size of the output file:\", file_size_mb, \"MB\")"
   ]
  },
  {
   "cell_type": "code",
   "execution_count": null,
   "id": "588e8537",
   "metadata": {},
   "outputs": [],
   "source": []
  }
 ],
 "metadata": {
  "kernelspec": {
   "display_name": "Python 3 (ipykernel)",
   "language": "python",
   "name": "python3"
  },
  "language_info": {
   "codemirror_mode": {
    "name": "ipython",
    "version": 3
   },
   "file_extension": ".py",
   "mimetype": "text/x-python",
   "name": "python",
   "nbconvert_exporter": "python",
   "pygments_lexer": "ipython3",
   "version": "3.9.0"
  }
 },
 "nbformat": 4,
 "nbformat_minor": 5
}
